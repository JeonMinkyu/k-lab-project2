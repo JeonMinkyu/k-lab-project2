{
 "cells": [
  {
   "cell_type": "markdown",
   "metadata": {},
   "source": [
    "- /home/jeon/Desktop/k-lab/train_our_data_M2Det/M2Det/data/dataset/ImageSets/Main에 들어갈 train_txt 만들기"
   ]
  },
  {
   "cell_type": "code",
   "execution_count": 25,
   "metadata": {},
   "outputs": [],
   "source": [
    "import cv2\n",
    "import os"
   ]
  },
  {
   "cell_type": "code",
   "execution_count": 26,
   "metadata": {},
   "outputs": [
    {
     "data": {
      "text/plain": [
       "'/home/jeon/Desktop/k-lab/M2Det'"
      ]
     },
     "execution_count": 26,
     "metadata": {},
     "output_type": "execute_result"
    }
   ],
   "source": [
    "os.getcwd()"
   ]
  },
  {
   "cell_type": "code",
   "execution_count": 27,
   "metadata": {},
   "outputs": [],
   "source": [
    "wd = '/home/jeon/Desktop/mnt/mnt001/k-lab/train_data/dataset_folder' #data folder명\n",
    "input_names = os.listdir(wd+'/JPEGImages')\n",
    "output_names = wd+'/ImageSets/Main'"
   ]
  },
  {
   "cell_type": "code",
   "execution_count": 28,
   "metadata": {},
   "outputs": [],
   "source": [
    "new_lst = []\n",
    "\n",
    "for i in range(len(input_names)):\n",
    "    new_lst.append(input_names[i][:-4])"
   ]
  },
  {
   "cell_type": "code",
   "execution_count": null,
   "metadata": {},
   "outputs": [],
   "source": []
  },
  {
   "cell_type": "code",
   "execution_count": 29,
   "metadata": {},
   "outputs": [],
   "source": [
    "new_lst_1 = []\n",
    "new_lst_2 = []\n",
    "new_lst_3 = []\n",
    "new_lst_4 = []\n",
    "new_lst_5 = []\n",
    "\n",
    "for i in range(len(new_lst)):\n",
    "    if len(new_lst[i])-5 == 1:\n",
    "        new_lst_1.append(new_lst[i])\n",
    "    if len(new_lst[i])-5 == 2:\n",
    "        new_lst_2.append(new_lst[i])\n",
    "    if len(new_lst[i])-5 == 3:\n",
    "        new_lst_3.append(new_lst[i])\n",
    "    if len(new_lst[i])-5 == 4:\n",
    "        new_lst_4.append(new_lst[i])\n",
    "    if len(new_lst[i])-5 == 5:\n",
    "        new_lst_5.append(new_lst[i])"
   ]
  },
  {
   "cell_type": "code",
   "execution_count": 30,
   "metadata": {},
   "outputs": [],
   "source": [
    "final_lst = sorted(new_lst_1)+sorted(new_lst_2)+sorted(new_lst_3)+sorted(new_lst_4) + sorted(new_lst_5)"
   ]
  },
  {
   "cell_type": "code",
   "execution_count": 32,
   "metadata": {},
   "outputs": [],
   "source": [
    "train_txt = open(output_names+'/train_txt.txt','w')\n",
    "\n",
    "for i in range(len(final_lst)):\n",
    "    train_txt.write(final_lst[i]+'\\n')\n",
    "train_txt.close()"
   ]
  },
  {
   "cell_type": "code",
   "execution_count": null,
   "metadata": {},
   "outputs": [],
   "source": []
  }
 ],
 "metadata": {
  "kernelspec": {
   "display_name": "Python 3",
   "language": "python",
   "name": "python3"
  },
  "language_info": {
   "codemirror_mode": {
    "name": "ipython",
    "version": 3
   },
   "file_extension": ".py",
   "mimetype": "text/x-python",
   "name": "python",
   "nbconvert_exporter": "python",
   "pygments_lexer": "ipython3",
   "version": "3.6.8"
  }
 },
 "nbformat": 4,
 "nbformat_minor": 4
}
