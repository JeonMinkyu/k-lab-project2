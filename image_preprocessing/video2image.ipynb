{
 "cells": [
  {
   "cell_type": "markdown",
   "metadata": {},
   "source": [
    "refernece : https://medium.com/@iKhushPatel/convert-video-to-images-images-to-video-using-opencv-python-db27a128a481"
   ]
  },
  {
   "cell_type": "markdown",
   "metadata": {},
   "source": [
    "Todo List : multiprocessing"
   ]
  },
  {
   "cell_type": "code",
   "execution_count": 31,
   "metadata": {},
   "outputs": [],
   "source": [
    "import cv2\n",
    "import os"
   ]
  },
  {
   "cell_type": "code",
   "execution_count": 32,
   "metadata": {},
   "outputs": [
    {
     "data": {
      "text/plain": [
       "'/home/Downloads/k-lab/image_preprocessing'"
      ]
     },
     "execution_count": 32,
     "metadata": {},
     "output_type": "execute_result"
    }
   ],
   "source": [
    "pwd"
   ]
  },
  {
   "cell_type": "code",
   "execution_count": 27,
   "metadata": {},
   "outputs": [],
   "source": [
    "wd = '/home/Downloads/' #data folder명 적기\n",
    "video_names = os.listdir(wd+'k-lab 2차 data')"
   ]
  },
  {
   "cell_type": "markdown",
   "metadata": {},
   "source": [
    "- wd : video data가 들어있는 workding directory  \n",
    "- video_names : 'video_data'라는 folder는 wd안에 있고 video_names는 video_data폴더 안에 있는 비디오 데이터 이름들의 list  \n",
    "- video_data의 pwd : /home/jeon/Desktop/mnt/mnt001/k-lab-data/video_data"
   ]
  },
  {
   "cell_type": "code",
   "execution_count": 28,
   "metadata": {},
   "outputs": [
    {
     "data": {
      "text/plain": [
       "65"
      ]
     },
     "execution_count": 28,
     "metadata": {},
     "output_type": "execute_result"
    }
   ],
   "source": [
    "len(video_names)"
   ]
  },
  {
   "cell_type": "code",
   "execution_count": 29,
   "metadata": {},
   "outputs": [],
   "source": [
    "def getFrame(sec, video_name): #, width=320, height=320):\n",
    "    # width, height : 설정할 이미지의 크기 조정\n",
    "    vidcap.set(cv2.CAP_PROP_POS_MSEC,sec*1000)\n",
    "    hasFrames,image = vidcap.read()\n",
    "#     image = cv2.resize(image, (width,height))\n",
    "    if hasFrames:\n",
    "        cv2.imwrite(wd+\"image/\"+\"image_2_\"+str(i)+\".jpg\", image)     # save frame as JPG file\n",
    "    return hasFrames"
   ]
  },
  {
   "cell_type": "code",
   "execution_count": 30,
   "metadata": {},
   "outputs": [],
   "source": [
    "if not os.path.exists(wd+'image'): #wd안에 'image'라는 폴더를 만들고 여기다가 frame을 저장 \n",
    "    os.makedirs(wd+'image')\n",
    "    \n",
    "i=4765\n",
    "for video_name in video_names:\n",
    "#     if not os.path.exists(wd+'image/'+video_name):\n",
    "#         os.makedirs(wd+'image/'+video_name)\n",
    "\n",
    "    vidcap = cv2.VideoCapture(wd+'1112/'+video_name) #video data는 원래 비디오 영상 이미지가 담겨있는 폴더 명\n",
    "    sec = 0\n",
    "    frameRate = 0.5 #//it will capture image in each 0.5 second (조정 가능!)\n",
    "#     count=1\n",
    "    success = getFrame(sec, video_name)\n",
    "    while success:\n",
    "#         count = count + 1\n",
    "        i = i + 1\n",
    "        sec = sec + frameRate\n",
    "        sec = round(sec, 2)\n",
    "        success = getFrame(sec, video_name)"
   ]
  },
  {
   "cell_type": "code",
   "execution_count": 47,
   "metadata": {},
   "outputs": [
    {
     "data": {
      "text/plain": [
       "1283"
      ]
     },
     "execution_count": 47,
     "metadata": {},
     "output_type": "execute_result"
    }
   ],
   "source": [
    "len(os.listdir('/home/Desktop/mnt/data/k-lab/민규'))"
   ]
  },
  {
   "cell_type": "code",
   "execution_count": 36,
   "metadata": {},
   "outputs": [],
   "source": [
    "total = len(os.listdir(wd+'image'))"
   ]
  },
  {
   "cell_type": "code",
   "execution_count": 40,
   "metadata": {},
   "outputs": [
    {
     "data": {
      "text/plain": [
       "1283"
      ]
     },
     "execution_count": 40,
     "metadata": {},
     "output_type": "execute_result"
    }
   ],
   "source": [
    "total//4"
   ]
  }
 ],
 "metadata": {
  "kernelspec": {
   "display_name": "Python 3",
   "language": "python",
   "name": "python3"
  },
  "language_info": {
   "codemirror_mode": {
    "name": "ipython",
    "version": 3
   },
   "file_extension": ".py",
   "mimetype": "text/x-python",
   "name": "python",
   "nbconvert_exporter": "python",
   "pygments_lexer": "ipython3",
   "version": "3.7.3"
  }
 },
 "nbformat": 4,
 "nbformat_minor": 4
}
