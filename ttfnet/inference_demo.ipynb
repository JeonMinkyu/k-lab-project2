{
 "cells": [
  {
   "cell_type": "code",
   "execution_count": null,
   "metadata": {},
   "outputs": [],
   "source": [
    "from mmdet.apis import init_detector, inference_detector, show_result\n",
    "import mmcv\n",
    "\n",
    "config_file = '/home/Downloads/k-lab/ttfnet/configs/ttfnet/ttfnet_d53_2x.py'\n",
    "checkpoint_file = '/home/Downloads/k-lab/ttfnet/pretrain/epoch_24.pth'\n",
    "\n",
    "def make_demo(config_file, checkpoint_file):\n",
    "    # build the model from a config file and a checkpoint file\n",
    "    model = init_detector(config_file, checkpoint_file, device='cuda:0')\n",
    "\n",
    "    # test a single image and show the results\n",
    "    # img = 'image11945.jpg'  # or img = mmcv.imread(img), which will only load it once\n",
    "    # result = inference_detector(model, img)\n",
    "    # show_result(img, result, model.CLASSES)\n",
    "\n",
    "    # # test a list of images and write the results to image files\n",
    "    # imgs = ['test1.jpg', 'test2.jpg']\n",
    "    # for i, result in enumerate(inference_detector(model, imgs)):\n",
    "    #     show_result(imgs[i], result, model.CLASSES, out_file='result_{}.jpg'.format(i))\n",
    "\n",
    "    # test a video and show the results\n",
    "    video = mmcv.VideoReader('video.mp4')\n",
    "    for frame in video:\n",
    "        result = inference_detector(model, frame)\n",
    "        show_result(frame, result, model.CLASSES, wait_time=1)"
   ]
  },
  {
   "cell_type": "code",
   "execution_count": null,
   "metadata": {},
   "outputs": [],
   "source": []
  }
 ],
 "metadata": {
  "kernelspec": {
   "display_name": "Python 3",
   "language": "python",
   "name": "python3"
  },
  "language_info": {
   "codemirror_mode": {
    "name": "ipython",
    "version": 3
   },
   "file_extension": ".py",
   "mimetype": "text/x-python",
   "name": "python",
   "nbconvert_exporter": "python",
   "pygments_lexer": "ipython3",
   "version": "3.7.5"
  }
 },
 "nbformat": 4,
 "nbformat_minor": 4
}
